{
 "cells": [
  {
   "cell_type": "markdown",
   "id": "1384be77",
   "metadata": {},
   "source": [
    "### Programming Assignment 5\n",
    "### Mason Anderson\n",
    "### Version 1\n",
    "### CS 150 Fall 23"
   ]
  },
  {
   "cell_type": "markdown",
   "id": "de327911",
   "metadata": {},
   "source": [
    "Task 1: Language Translator - write a program that implements a translation dictionary using a\n",
    "Python dictionary data structure that maps 10 English words to 10 words in another language (e.g.\n",
    "Spanish, German, Farsi, Arabic,Japanese, etc.). The keysin your dictionary should be in English\n",
    "(all lower case), and your values should be in your target language (also all lowercase). Your\n",
    "program should ask for words in English to translate to your target language until the user enters\n",
    "the number zero (0). "
   ]
  },
  {
   "cell_type": "code",
   "execution_count": 6,
   "id": "810facb9",
   "metadata": {},
   "outputs": [
    {
     "name": "stdout",
     "output_type": "stream",
     "text": [
      "Enter the english word to get the translated japanese word. Enter 0 to stop.fish\n",
      "The word for fish in japanese is さかな\n",
      "Enter the english word to get the translated japanese word. Enter 0 to stop.speak\n",
      "The word for speak in japanese is はなす\n",
      "Enter the english word to get the translated japanese word. Enter 0 to stop.birthday\n",
      "The word for birthday in japanese is たんじょうび\n",
      "Enter the english word to get the translated japanese word. Enter 0 to stop.mountain\n",
      "The word for mountain in japanese is やま\n",
      "Enter the english word to get the translated japanese word. Enter 0 to stop.hello\n",
      "Enter a valid word in the dictionary\n",
      "Enter the english word to get the translated japanese word. Enter 0 to stop.0\n"
     ]
    }
   ],
   "source": [
    "lang_translate={'water':'みず','run':'はしる','fire':'ひ','birthday':'たんじょうび','speak':'はなす','mountain':'やま','fish':'さかな','wonderful':'すばらしい','basketball':'バスケ','food':'たべもの'}\n",
    "flag=True\n",
    "j=0\n",
    "prompt=\"Enter the english word to get the translated japanese word. Enter 0 to stop.\"\n",
    "while flag:\n",
    "    message=input(prompt)\n",
    "    if message==\"0\":\n",
    "        flag=False\n",
    "    elif message in lang_translate:\n",
    "        print(f\"The word for {message} in japanese is {lang_translate[message]}\")\n",
    "    elif j==1:\n",
    "        print(\"Enter a valid word in the dictionary\")\n",
    "    else:\n",
    "        print(\"Enter a valid word in the dictionary\")\n",
    "        j+=1"
   ]
  },
  {
   "cell_type": "markdown",
   "id": "641cee4f",
   "metadata": {},
   "source": [
    "Task 2: Temperature converter- Create a dictionary named temp_dict containing the highest\n",
    "temperature in Fahrenheit for each day of September 2023 in Louisville, Kentucky. The keys will be the\n",
    "day of the month, and the values will be the temperature in Fahrenheit. Access each temperature value in\n",
    "Fahrenheit from the dictionary, convert it to Celsius using the formula (temperature - 32) * 5/9, and\n",
    "update the original dictionary with the Celsius value. Take help from the weather app to create a correct\n",
    "dictionary."
   ]
  },
  {
   "cell_type": "code",
   "execution_count": 8,
   "id": "caa2d99c",
   "metadata": {},
   "outputs": [
    {
     "name": "stdout",
     "output_type": "stream",
     "text": [
      "{1: 31, 2: 32, 3: 33, 4: 30, 5: 32, 6: 28, 7: 25, 8: 28, 9: 27, 10: 28, 11: 30, 12: 26, 13: 27, 14: 27, 15: 27, 16: 28, 17: 26, 18: 26, 19: 27, 20: 29, 21: 30, 22: 31, 23: 28, 24: 28, 25: 30, 26: 31, 27: 28, 28: 27, 29: 29, 30: 30}\n"
     ]
    }
   ],
   "source": [
    "temp_dict={1:88,2:91,3:92,4:86,5:90,6:84,7:77,8:84,9:81,10:84,11:87,12:80,13:81,14:82,15:81,16:83,17:79,18:80,19:81,20:85,21:86,22:89,23:83,24:84,25:87,26:89,27:83,28:82,29:85,30:86}\n",
    "for i,k in temp_dict.items():\n",
    "    temp_dict.update({i:int((k-32)*(5/9))})\n",
    "print(temp_dict)\n",
    "    \n"
   ]
  },
  {
   "cell_type": "markdown",
   "id": "9b4c0e6c",
   "metadata": {},
   "source": [
    "Task 3: Write a Python script to create a dictionary where the keys are numbers between 1 and\n",
    "15 (both included) and the values are the squares of the keys."
   ]
  },
  {
   "cell_type": "code",
   "execution_count": 15,
   "id": "f0653388",
   "metadata": {},
   "outputs": [
    {
     "name": "stdout",
     "output_type": "stream",
     "text": [
      "{1: 1, 2: 4, 3: 9, 4: 16, 5: 25, 6: 36, 7: 49, 8: 64, 9: 81, 10: 100, 11: 121, 12: 144, 13: 169, 14: 196, 15: 225}\n"
     ]
    }
   ],
   "source": [
    "numbers={}\n",
    "for x in range (1,16):\n",
    "    numbers.update({x:x**2})\n",
    "print(numbers)"
   ]
  },
  {
   "cell_type": "markdown",
   "id": "0c864f2b",
   "metadata": {},
   "source": [
    "Task4: User Profile Dictionary\n",
    "Create a Python program that manages user profiles using a dictionary. Follow these steps:\n",
    "A. Create an empty dictionary named user_profiles to store user information.\n",
    "B. Implement a while loop that allows users to input their information. The loop should\n",
    "repeatedly ask the user to enter their name, age, email, and city. Add this information to the\n",
    "user_profiles dictionary.\n",
    "C. Add a break condition to exit the loop.\n",
    "D. Ask the user to input their information and add it to the dictionary. Allow the user to search\n",
    "for a specific user's profile by providing their name. If the user is found, display their profile;\n",
    "otherwise, show a message that the user is not found."
   ]
  },
  {
   "cell_type": "code",
   "execution_count": 17,
   "id": "3f867238",
   "metadata": {},
   "outputs": [
    {
     "name": "stdout",
     "output_type": "stream",
     "text": [
      "Enter user's name: Mason\n",
      "Enter user's age: 22\n",
      "Enter user's email: Manderson8@bellarmine.edu\n",
      "Enter user's city: Louisville\n",
      "Enter another user's information? (yes/no): no\n",
      "Enter a user's name to search: Mason\n",
      "For this user, their age is 22, their email is Manderson8@bellarmine.edu, and their city is Louisville.\n",
      "Would you like to search for another user? (yes/no): no\n"
     ]
    }
   ],
   "source": [
    "user_profiles={}\n",
    "poll=True\n",
    "while poll:\n",
    "    name=input(\"Enter user's name: \")\n",
    "    age=int(input(\"Enter user's age: \"))\n",
    "    email=input(\"Enter user's email: \")\n",
    "    city=input(\"Enter user's city: \")\n",
    "    user_profiles.update({name:[age,email,city]})\n",
    "    repeat=input(\"Enter another user's information? (yes/no): \")\n",
    "    if repeat==\"no\":\n",
    "        poll=False\n",
    "flag=True\n",
    "while flag:\n",
    "    search=input(\"Enter a user's name to search: \")\n",
    "    if search in user_profiles:\n",
    "        print(f\"For this user, their age is {user_profiles[search][0]}, their email is {user_profiles[search][1]}, and their city is {user_profiles[search][2]}.\")\n",
    "    else:\n",
    "        print(\"User not in dictionary\")\n",
    "    repeat1=input(\"Would you like to search for another user? (yes/no): \")\n",
    "    if repeat1==\"no\":\n",
    "        flag=False\n",
    "    "
   ]
  },
  {
   "cell_type": "code",
   "execution_count": null,
   "id": "dd8dd3b5",
   "metadata": {},
   "outputs": [],
   "source": []
  }
 ],
 "metadata": {
  "kernelspec": {
   "display_name": "Python 3 (ipykernel)",
   "language": "python",
   "name": "python3"
  },
  "language_info": {
   "codemirror_mode": {
    "name": "ipython",
    "version": 3
   },
   "file_extension": ".py",
   "mimetype": "text/x-python",
   "name": "python",
   "nbconvert_exporter": "python",
   "pygments_lexer": "ipython3",
   "version": "3.11.4"
  }
 },
 "nbformat": 4,
 "nbformat_minor": 5
}
